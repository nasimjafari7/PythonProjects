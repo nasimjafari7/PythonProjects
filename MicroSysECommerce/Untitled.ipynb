{
 "cells": [
  {
   "cell_type": "markdown",
   "metadata": {},
   "source": [
    "# Microservices ECommerce\n",
    "\n",
    "In this project, I will create fictional commerce microservices. This project includes four microservices; **Products**, **Customers**, **Orders**, and **Search**. The first three microservices will manage their own data. They will use in_memory data, but it is possible to change these to a real database quickly. The Search microservice will synchronously communicate to the other microservices to obtain data from a particular customer and return the aggregated data. To accomplish this, I will develop the microservices by using Visual Studio and .Net core and some unit tests using xUnit."
   ]
  },
  {
   "cell_type": "markdown",
   "metadata": {},
   "source": [
    "<img src=\"Design.jpg\">"
   ]
  },
  {
   "cell_type": "markdown",
   "metadata": {},
   "source": [
    "## Applied technologies\n",
    "\n",
    "The following technologies, classes, and design patterns have been used to implement the project:\n",
    "\n",
    "- ### ASP .Net Core:\n",
    "I am going touse ASP.NET Core to create RESTful services, i.e., web APIs, using C#. for handling web API requests.\n",
    "\n",
    "- ### Entity Framework Core: \n",
    "I am going to create a DbContext for each microservices (except Search). This Dbcontext is responsible for tracking all database changes, and it will be based on the Entity Framework Core, which is the object-relational mapper technology from Microsoft.\n",
    "\n",
    "- ### LINQ\n",
    "I am going to implement a provider class in each microservices as another layer on top of the DbContext. A client (here a controller) can use it to get or set data from/to the database without knowing or caring whether the data is coming from Entity Framework or a web API. In these providers, to get data, I am going to use LINQ methods.\n",
    "\n",
    "- ### HttpClient and HttpClientFactory \n",
    "I am going touse HttpClient class to send HTTP requests to the microservices and receive HTTP responses from microservices. I am also going to use HttpClientFactory to create an instance of HttpClient.\n",
    "\n",
    "- ### AutoMapper\n",
    "I am going to use AutoMAppaer class to transform the DB entities into the models. \n",
    "\n",
    "- ### xUnit: \n",
    "I am going to write some unit tests using xUnit and Mock class.\n",
    "\n",
    "- ### Dependency Injection (DI)\n",
    "ASP.NET Core supports the dependency injection (DI) software design pattern, which is a technique for achieving Inversion of Control (IoC) between classes and their dependencies. I am going to use this pattern in my implementation."
   ]
  },
  {
   "attachments": {},
   "cell_type": "markdown",
   "metadata": {},
   "source": [
    "## Data Base Design\n",
    "\n",
    "The first three microservices have their own separate database with the following specifications:\n",
    "\n",
    "- ### Product Database Design:\n",
    "<img src=\"ProductDb.jpg\">\n",
    "\n",
    "- ### Order Database Design:\n",
    "<img src=\"OrderDb.jpg\">\n",
    "\n",
    "- ### Customer Database Design:\n",
    "<img src=\"CustomerDb.jpg\">"
   ]
  },
  {
   "cell_type": "markdown",
   "metadata": {},
   "source": [
    "## LInk to the code\n",
    "\n",
    "[This]() is the link to my code.\n",
    "\n",
    "\n",
    "Using **Postman** as a popular API client to test the API, I received the following result:\n",
    "<img src=\"SearchResult.jpg\">\n",
    "\n"
   ]
  },
  {
   "cell_type": "code",
   "execution_count": null,
   "metadata": {},
   "outputs": [],
   "source": []
  }
 ],
 "metadata": {
  "kernelspec": {
   "display_name": "Python 3",
   "language": "python",
   "name": "python3"
  },
  "language_info": {
   "codemirror_mode": {
    "name": "ipython",
    "version": 3
   },
   "file_extension": ".py",
   "mimetype": "text/x-python",
   "name": "python",
   "nbconvert_exporter": "python",
   "pygments_lexer": "ipython3",
   "version": "3.7.6"
  }
 },
 "nbformat": 4,
 "nbformat_minor": 4
}
