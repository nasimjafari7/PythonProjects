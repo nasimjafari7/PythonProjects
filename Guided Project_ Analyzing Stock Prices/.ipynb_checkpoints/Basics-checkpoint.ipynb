{
 "cells": [
  {
   "cell_type": "markdown",
   "metadata": {
    "collapsed": true
   },
   "source": [
    "# Analyzing Stock Prices\n",
    "\n",
    "I am going to work with stock market data that was downloaded from [Yahoo Finance](https://finance.yahoo.com/?guccounter=1&guce_referrer=aHR0cHM6Ly9hcHAuZGF0YXF1ZXN0LmlvLw&guce_referrer_sig=AQAAACbPS7xIVw4woj5nkyb2sh4eEmwPCsc4Xn0vKC8cQ4rS08l4oUOdzfp6R2SkBbQcJop2jETOZTkAr2sRAWMACt-r0dt35SJQre16QcHRMhGs_CSMLEh0GAMPEnnbUpLK0kdu1BH0D6qy8OChEoHs8brnI3YnnVLN4P4DkDzpzoct) using the [yahoo_finance](https://pypi.org/project/yahoo-finance/) Python package. This data consists of the daily stock prices from 2007-1-1 to 2017-04-17 for several hundred stock symbols traded on the NASDAQ stock exchange, stored in the prices folder. The download_data.py script in the same folder as the Jupyter notebook was used to download all of the stock price data. Each file in the prices folder is named for a specific stock symbol, and contains the:\n",
    "\n",
    "- **date** -- date that the data is from.\n",
    "- **close** -- the closing price on that day, which is the price when the trading day ends.\n",
    "- **open** -- the opening price on that day, which is the price when the trading day starts.\n",
    "- **high** -- the highest price the stock reached during trading.\n",
    "- **low** -- the lowest price the stock reached during trading.\n",
    "- **volume** -- the number of shares that were traded during the day.\n",
    "\n",
    "To read in and store all of the data, I am going to use a **dictionary** where the keys are the stock symbols (name of the file without the .csv extension) and the value associated with each key is a DataFrame storing the data from the CSV file.\n",
    "For example, the **aapl.csv** data can be stored in an entry with **key \"aapl\"** and **value** is **the DataFrame obtained by reading the CSV file (\"prices/aapl.csv\")**."
   ]
  },
  {
   "cell_type": "code",
   "execution_count": 9,
   "metadata": {},
   "outputs": [
    {
     "name": "stdout",
     "output_type": "stream",
     "text": [
      "         date      close       open       high        low     volume\n",
      "0  2007-01-03  83.800002  86.289999  86.579999  81.899999  309579900\n",
      "1  2007-01-04  85.659998  84.050001  85.949998  83.820003  211815100\n",
      "2  2007-01-05  85.049997  85.770000  86.199997  84.400002  208685400\n",
      "3  2007-01-08  85.470000  85.959998  86.529998  85.280003  199276700\n",
      "4  2007-01-09  92.570003  86.450003  92.979999  85.150000  837324600\n"
     ]
    }
   ],
   "source": [
    "import pandas as pd\n",
    "import os\n",
    "\n",
    "data = {}\n",
    "for fn in os.listdir(\"prices\"):\n",
    "    df = pd.read_csv(os.path.join(\"prices\", fn))\n",
    "    \n",
    "    # Set key as the file name and value as the dataframe\n",
    "    key = fn.replace(\".csv\", \"\")\n",
    "    data[key] = df\n",
    "\n",
    "print(data['aapl'].head())"
   ]
  },
  {
   "cell_type": "markdown",
   "metadata": {},
   "source": [
    "I am going to calculate a dictionary where the keys are the stock symbols and the values are the average closing price of that stock, then I am going to calculate the stock symbol with the minimum and maximum average closing price."
   ]
  },
  {
   "cell_type": "code",
   "execution_count": 15,
   "metadata": {},
   "outputs": [
    {
     "name": "stdout",
     "output_type": "stream",
     "text": [
      "Maximum average closing price: amzn with the value of 275.1340775710431\n",
      "Minimum average closing price: blfs with the value of 0.8122763011583004\n"
     ]
    }
   ],
   "source": [
    "avg_closing_price = {}\n",
    "for key in data:\n",
    "    value = data[key]\n",
    "    avg_closing_price[key] = value['close'].mean()\n",
    "key_max = max(avg_closing_price.keys(), key=(lambda k: avg_closing_price[k]))\n",
    "key_min = min(avg_closing_price.keys(), key=(lambda k: avg_closing_price[k]))\n",
    "\n",
    "print('Maximum average closing price: {} with the value of {}'.format(key_max, avg_closing_price[key_max]))\n",
    "print('Minimum average closing price: {} with the value of {}'.format(key_min, avg_closing_price[key_min]))    "
   ]
  },
  {
   "cell_type": "code",
   "execution_count": null,
   "metadata": {},
   "outputs": [],
   "source": []
  }
 ],
 "metadata": {
  "kernelspec": {
   "display_name": "Python 3",
   "language": "python",
   "name": "python3"
  },
  "language_info": {
   "codemirror_mode": {
    "name": "ipython",
    "version": 3
   },
   "file_extension": ".py",
   "mimetype": "text/x-python",
   "name": "python",
   "nbconvert_exporter": "python",
   "pygments_lexer": "ipython3",
   "version": "3.7.6"
  }
 },
 "nbformat": 4,
 "nbformat_minor": 1
}
